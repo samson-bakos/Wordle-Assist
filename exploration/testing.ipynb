{
 "cells": [
  {
   "cell_type": "code",
   "execution_count": 64,
   "metadata": {},
   "outputs": [],
   "source": [
    "import numpy as np\n",
    "import string"
   ]
  },
  {
   "cell_type": "code",
   "execution_count": 65,
   "metadata": {},
   "outputs": [],
   "source": [
    "\n",
    "\n",
    "# Read the file and split words into individual letters\n",
    "with open('../data/words.txt', 'r') as file:\n",
    "    words = file.read().splitlines()\n",
    "    words_array = np.array([list(word) for word in words])\n",
    "\n",
    "\n"
   ]
  },
  {
   "attachments": {},
   "cell_type": "markdown",
   "metadata": {},
   "source": [
    "## Score Letters"
   ]
  },
  {
   "cell_type": "code",
   "execution_count": 66,
   "metadata": {},
   "outputs": [],
   "source": [
    "alphabet = list(string.ascii_lowercase)\n",
    "alphabet_dict= {letter: index for index, letter in enumerate(alphabet)}\n",
    "\n",
    "letter_scores = np.zeros((26, 1))\n",
    "for i in range(0,5):\n",
    "    scores = []\n",
    "    for letter in alphabet:\n",
    "        count = np.count_nonzero(words_array[:, i] == letter)\n",
    "        scores.append(count/len(words_array))\n",
    "    letter_scores = np.column_stack((letter_scores, scores))\n",
    "\n",
    "letter_scores = letter_scores[:, 1:]\n"
   ]
  },
  {
   "attachments": {},
   "cell_type": "markdown",
   "metadata": {},
   "source": [
    "## Check for Unique lettered words"
   ]
  },
  {
   "cell_type": "code",
   "execution_count": 67,
   "metadata": {},
   "outputs": [],
   "source": [
    "def has_unique_rows(array):\n",
    "    for row in array:\n",
    "        if len(set(row)) == len(row):\n",
    "            return True\n",
    "    return False\n",
    "\n",
    "def remove_non_unique_rows(array):\n",
    "    avail_list = [row for row in array if len(set(row)) == len(row)]\n",
    "    return np.array(avail_list)\n",
    "\n",
    "\n",
    "if has_unique_rows(words_array) == True:\n",
    "    avail_words = remove_non_unique_rows(words_array)\n",
    "\n",
    "else:\n",
    "    avail_words = words_array\n",
    "\n"
   ]
  },
  {
   "attachments": {},
   "cell_type": "markdown",
   "metadata": {},
   "source": [
    "## Find Best Word"
   ]
  },
  {
   "cell_type": "code",
   "execution_count": 68,
   "metadata": {},
   "outputs": [
    {
     "data": {
      "text/plain": [
       "array(['s', 'a', 'i', 'n', 't'], dtype='<U1')"
      ]
     },
     "execution_count": 68,
     "metadata": {},
     "output_type": "execute_result"
    }
   ],
   "source": [
    "word_scores = np.zeros((len(avail_words), 5))\n",
    "\n",
    "for column in range(0,5):\n",
    "    for row in range(0, len(avail_words)):\n",
    "        letter = avail_words[row, column]\n",
    "        index = alphabet_dict[letter]\n",
    "        word_scores[row, column] += letter_scores[index, column]\n",
    "\n",
    "word_scores = np.prod(word_scores, axis=1)\n",
    "best = np.argmax(word_scores)\n",
    "word = avail_words[best]\n",
    "word\n"
   ]
  },
  {
   "attachments": {},
   "cell_type": "markdown",
   "metadata": {},
   "source": [
    "## Filter List"
   ]
  },
  {
   "cell_type": "code",
   "execution_count": 69,
   "metadata": {},
   "outputs": [],
   "source": [
    "input = {'s': 'gray', 'a':'gray', 'i':'gray', 'n':'yellow', 't':'green'}"
   ]
  },
  {
   "cell_type": "code",
   "execution_count": 57,
   "metadata": {},
   "outputs": [
    {
     "data": {
      "text/plain": [
       "array([['u', 'n', 'm', 'e', 't'],\n",
       "       ['t', 'e', 'n', 'e', 't'],\n",
       "       ['d', 'o', 'n', 'u', 't'],\n",
       "       ['u', 'n', 'c', 'u', 't'],\n",
       "       ['k', 'n', 'e', 'l', 't']], dtype='<U1')"
      ]
     },
     "execution_count": 57,
     "metadata": {},
     "output_type": "execute_result"
    }
   ],
   "source": [
    "keys = list(input.keys())\n",
    "\n",
    "for key in keys:\n",
    "    color = input[key]\n",
    "    \n",
    "    if color == 'gray':\n",
    "        words_array = words_array[~np.any(words_array == key, axis=1)]\n",
    "    \n",
    "    if color == 'green':\n",
    "        column = keys.index(key)\n",
    "        words_array = words_array[words_array[:, column] == key]\n",
    "\n",
    "    if color == 'yellow':\n",
    "        column = keys.index(key)\n",
    "        words_array = words_array[words_array[:, column] != key]\n",
    "        words_array = words_array[np.any(words_array == key, axis=1)]\n",
    "\n",
    "words_array\n",
    "\n"
   ]
  },
  {
   "attachments": {},
   "cell_type": "markdown",
   "metadata": {},
   "source": [
    "# TO DO:\n",
    "\n",
    "* Functionalize: i.e. write as a class, save array as an attribute, input as a method that updates array attribute, output as a method calcs most likely word from attribute\n",
    "\n",
    "* Build UI to pass input as dict   "
   ]
  },
  {
   "cell_type": "code",
   "execution_count": 185,
   "metadata": {},
   "outputs": [],
   "source": [
    "class Wordle:\n",
    "\n",
    "    def __init__(self):\n",
    "        with open('../data/words.txt', 'r') as file:\n",
    "            words = file.read().splitlines()\n",
    "            self.words_array = np.array([list(word) for word in words])\n",
    "\n",
    "        self.alphabet = list(string.ascii_lowercase)\n",
    "        self.alphabet_dict = {letter: index for index, letter in enumerate(self.alphabet)}\n",
    "\n",
    "    def score_letters(self):\n",
    "        self.letter_scores = np.zeros((26, 1))\n",
    "        for i in range(0, 5):\n",
    "            scores = []\n",
    "            for letter in self.alphabet:\n",
    "                count = np.count_nonzero(self.words_array[:, i] == letter)\n",
    "                scores.append(count / len(self.words_array))\n",
    "            self.letter_scores = np.column_stack((self.letter_scores, scores))\n",
    "        self.letter_scores = self.letter_scores[:, 1:]\n",
    "        return self.letter_scores\n",
    "    \n",
    "    @staticmethod\n",
    "    def has_unique_rows(array):\n",
    "        for row in array:\n",
    "            if len(set(row)) == len(row):\n",
    "                return True\n",
    "        return False\n",
    "\n",
    "    @staticmethod\n",
    "    def remove_non_unique_rows(array):\n",
    "        avail_list = [row for row in array if len(set(row)) == len(row)]\n",
    "        return np.array(avail_list)\n",
    "    \n",
    "    def unique_check(self):\n",
    "        if has_unique_rows(self.words_array) == True:\n",
    "            self.avail_words = remove_non_unique_rows(self.words_array)\n",
    "        else:\n",
    "            self.avail_words = self.words_array\n",
    "        return\n",
    "    \n",
    "    def best_word(self, alphabet_dict):\n",
    "        word_scores = np.zeros((len(avail_words), 5))\n",
    "        for column in range(0,5):\n",
    "            for row in range(0, len(self.avail_words)):\n",
    "                letter = self.avail_words[row, column]\n",
    "                index = alphabet_dict[letter]\n",
    "                word_scores[row, column] += self.letter_scores[index, column]\n",
    "\n",
    "        word_scores = np.prod(word_scores, axis=1)\n",
    "        best = np.argmax(word_scores)\n",
    "        return self.avail_words[best]\n",
    "    \n",
    "    def filter_list(self, input):\n",
    "        keys = list(input.keys())\n",
    "\n",
    "        for key in keys:\n",
    "            color = input[key]\n",
    "    \n",
    "            if color == 'gray':\n",
    "                self.words_array = self.words_array[~np.any(self.words_array == key, axis=1)]\n",
    "    \n",
    "            if color == 'green':\n",
    "                column = keys.index(key)\n",
    "                self.words_array = self.words_array[self.words_array[:, column] == key]\n",
    "\n",
    "            if color == 'yellow':\n",
    "                column = keys.index(key)\n",
    "                self.words_array = self.words_array[self.words_array[:, column] != key]\n",
    "                self.words_array = self.words_array[np.any(self.words_array == key, axis=1)]\n",
    "    \n",
    "    def solve(self, input = None):\n",
    "        if input is not None:\n",
    "            self.filter_list(input)\n",
    "        self.score_letters()\n",
    "        self.unique_check()\n",
    "        return self.best_word(alphabet_dict)\n",
    "        \n",
    "\n",
    "        \n",
    "        \n",
    "        "
   ]
  },
  {
   "cell_type": "code",
   "execution_count": 190,
   "metadata": {},
   "outputs": [],
   "source": [
    "puzzle1 = Wordle()"
   ]
  },
  {
   "cell_type": "code",
   "execution_count": 191,
   "metadata": {},
   "outputs": [
    {
     "data": {
      "text/plain": [
       "array(['s', 'a', 'i', 'n', 't'], dtype='<U1')"
      ]
     },
     "execution_count": 191,
     "metadata": {},
     "output_type": "execute_result"
    }
   ],
   "source": [
    "puzzle1.solve()"
   ]
  },
  {
   "cell_type": "code",
   "execution_count": 192,
   "metadata": {},
   "outputs": [],
   "source": [
    "input = {'s': 'gray', 'a':'green', 'i':'gray', 'n':'gray', 't':'gray'}"
   ]
  },
  {
   "cell_type": "code",
   "execution_count": 193,
   "metadata": {},
   "outputs": [
    {
     "data": {
      "text/plain": [
       "array(['c', 'a', 'g', 'e', 'y'], dtype='<U1')"
      ]
     },
     "execution_count": 193,
     "metadata": {},
     "output_type": "execute_result"
    }
   ],
   "source": [
    "puzzle1.solve(input = input)"
   ]
  },
  {
   "cell_type": "code",
   "execution_count": 194,
   "metadata": {},
   "outputs": [],
   "source": [
    "input = {'c': 'gray', 'a':'green', 'g':'yellow', 'e':'yellow', 'y':'gray'}"
   ]
  },
  {
   "cell_type": "code",
   "execution_count": 195,
   "metadata": {},
   "outputs": [
    {
     "data": {
      "text/plain": [
       "array(['b', 'a', 'r', 'g', 'e'], dtype='<U1')"
      ]
     },
     "execution_count": 195,
     "metadata": {},
     "output_type": "execute_result"
    }
   ],
   "source": [
    "puzzle1.solve(input = input)"
   ]
  },
  {
   "cell_type": "code",
   "execution_count": null,
   "metadata": {},
   "outputs": [],
   "source": []
  }
 ],
 "metadata": {
  "kernelspec": {
   "display_name": "base",
   "language": "python",
   "name": "python3"
  },
  "language_info": {
   "codemirror_mode": {
    "name": "ipython",
    "version": 3
   },
   "file_extension": ".py",
   "mimetype": "text/x-python",
   "name": "python",
   "nbconvert_exporter": "python",
   "pygments_lexer": "ipython3",
   "version": "3.10.6"
  },
  "orig_nbformat": 4
 },
 "nbformat": 4,
 "nbformat_minor": 2
}
