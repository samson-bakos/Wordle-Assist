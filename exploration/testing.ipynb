{
 "cells": [
  {
   "cell_type": "code",
   "execution_count": 127,
   "metadata": {},
   "outputs": [],
   "source": [
    "import numpy as np\n",
    "import string"
   ]
  },
  {
   "cell_type": "code",
   "execution_count": 128,
   "metadata": {},
   "outputs": [],
   "source": [
    "\n",
    "\n",
    "# Read the file and split words into individual letters\n",
    "with open('words.txt', 'r') as file:\n",
    "    words = file.read().splitlines()\n",
    "    split_array = np.array([list(word) for word in words])\n",
    "\n",
    "\n"
   ]
  },
  {
   "attachments": {},
   "cell_type": "markdown",
   "metadata": {},
   "source": [
    "## Find Best Word"
   ]
  },
  {
   "cell_type": "code",
   "execution_count": 129,
   "metadata": {},
   "outputs": [],
   "source": [
    "alphabet = list(string.ascii_lowercase)\n",
    "alphabet_dict= {letter: index for index, letter in enumerate(alphabet)}\n",
    "\n",
    "scores_array = np.zeros((26, 1))\n",
    "for i in range(0,5):\n",
    "    scores = []\n",
    "    for letter in alphabet:\n",
    "        count = np.count_nonzero(split_array[:, i] == letter)\n",
    "        scores.append(count/len(split_array))\n",
    "    scores_array = np.column_stack((scores_array, scores))\n",
    "\n",
    "scores_array = scores_array[:, 1:]\n",
    "\n"
   ]
  },
  {
   "cell_type": "code",
   "execution_count": 130,
   "metadata": {},
   "outputs": [
    {
     "data": {
      "text/plain": [
       "array(['s', 'a', 'i', 'n', 't'], dtype='<U1')"
      ]
     },
     "execution_count": 130,
     "metadata": {},
     "output_type": "execute_result"
    }
   ],
   "source": [
    "scores_array = np.zeros((len(split_array), 5))\n",
    "\n",
    "for column in range(0,5):\n",
    "    for row in range(0, len(split_array)):\n",
    "        letter = split_array[row, column]\n",
    "        index = alphabet_dict[letter]\n",
    "        scores_array[row, column] += overall[index, column]\n",
    "\n",
    "scores = np.prod(scores_array, axis=1)\n",
    "best = np.argmax(scores)\n",
    "word = split_array[best]\n",
    "word\n"
   ]
  },
  {
   "attachments": {},
   "cell_type": "markdown",
   "metadata": {},
   "source": [
    "## Filter List"
   ]
  },
  {
   "cell_type": "code",
   "execution_count": 131,
   "metadata": {},
   "outputs": [],
   "source": [
    "input = {'s': 'gray', 'a':'gray', 'i':'gray', 'n':'yellow', 't':'green'}"
   ]
  },
  {
   "cell_type": "code",
   "execution_count": 132,
   "metadata": {},
   "outputs": [],
   "source": [
    "keys = list(input.keys())\n",
    "\n",
    "for key in keys:\n",
    "    color = input[key]\n",
    "    \n",
    "    if color == 'gray':\n",
    "        split_array = split_array[~np.any(split_array == key, axis=1)]\n",
    "    \n",
    "    if color == 'green':\n",
    "        column = keys.index(key)\n",
    "        split_array = split_array[split_array[:, column] == key]\n",
    "\n",
    "    if color == 'yellow':\n",
    "        column = keys.index(key)\n",
    "        split_array = split_array[split_array[:, column] != key]\n",
    "        split_array = split_array[np.any(split_array == key, axis=1)]\n"
   ]
  },
  {
   "cell_type": "code",
   "execution_count": 133,
   "metadata": {},
   "outputs": [
    {
     "data": {
      "text/plain": [
       "(5, 5)"
      ]
     },
     "execution_count": 133,
     "metadata": {},
     "output_type": "execute_result"
    }
   ],
   "source": [
    "split_array.shape"
   ]
  },
  {
   "attachments": {},
   "cell_type": "markdown",
   "metadata": {},
   "source": [
    "## Finish Solution"
   ]
  },
  {
   "cell_type": "code",
   "execution_count": 134,
   "metadata": {},
   "outputs": [
    {
     "data": {
      "text/plain": [
       "array(['t', 'e', 'n', 'e', 't'], dtype='<U1')"
      ]
     },
     "execution_count": 134,
     "metadata": {},
     "output_type": "execute_result"
    }
   ],
   "source": [
    "scores_array = np.zeros((26, 1))\n",
    "for i in range(0,5):\n",
    "    scores = []\n",
    "    for letter in alphabet:\n",
    "        count = np.count_nonzero(split_array[:, i] == letter)\n",
    "        scores.append(count/len(split_array))\n",
    "    scores_array = np.column_stack((scores_array, scores))\n",
    "\n",
    "scores_array = scores_array[:, 1:]\n",
    "scores_array = np.zeros((len(split_array), 5))\n",
    "\n",
    "for column in range(0,5):\n",
    "    for row in range(0, len(split_array)):\n",
    "        letter = split_array[row, column]\n",
    "        index = alphabet_dict[letter]\n",
    "        scores_array[row, column] += overall[index, column]\n",
    "\n",
    "scores = np.prod(scores_array, axis=1)\n",
    "best = np.argmax(scores)\n",
    "word = split_array[best]\n",
    "word\n",
    "\n"
   ]
  },
  {
   "cell_type": "code",
   "execution_count": 123,
   "metadata": {},
   "outputs": [],
   "source": [
    "input = {'t': 'green', 'i':'green', 'n':'green', 'e':'gray', 'y':'green'}"
   ]
  },
  {
   "cell_type": "code",
   "execution_count": 124,
   "metadata": {},
   "outputs": [],
   "source": [
    "keys = list(input.keys())\n",
    "\n",
    "for key in keys:\n",
    "    color = input[key]\n",
    "    \n",
    "    if color == 'gray':\n",
    "        split_array = split_array[~np.any(split_array == key, axis=1)]\n",
    "    \n",
    "    if color == 'green':\n",
    "        column = keys.index(key)\n",
    "        split_array = split_array[split_array[:, column] == key]\n",
    "\n",
    "    if color == 'yellow':\n",
    "        column = keys.index(key)\n",
    "        split_array = split_array[split_array[:, column] != key]\n",
    "        split_array = split_array[np.any(split_array == key, axis=1)]"
   ]
  },
  {
   "cell_type": "code",
   "execution_count": 125,
   "metadata": {},
   "outputs": [
    {
     "data": {
      "text/plain": [
       "(3, 5)"
      ]
     },
     "execution_count": 125,
     "metadata": {},
     "output_type": "execute_result"
    }
   ],
   "source": [
    "split_array.shape"
   ]
  },
  {
   "cell_type": "code",
   "execution_count": 126,
   "metadata": {},
   "outputs": [
    {
     "data": {
      "text/plain": [
       "array([['w', 'i', 'n', 'd', 'y'],\n",
       "       ['d', 'i', 'n', 'g', 'y'],\n",
       "       ['k', 'i', 'n', 'k', 'y']], dtype='<U1')"
      ]
     },
     "execution_count": 126,
     "metadata": {},
     "output_type": "execute_result"
    }
   ],
   "source": [
    "split_array"
   ]
  },
  {
   "attachments": {},
   "cell_type": "markdown",
   "metadata": {},
   "source": [
    "# TO DO:\n",
    "* Setup VC\n",
    "\n",
    "* prevent multiletter guessing\n",
    "\n",
    "* Functionalize: i.e. write as a class, save array as an attribute, input as a method that updates array attribute, output as a method calcs most likely word from attribute\n",
    "\n",
    "* Build UI to pass input as dict"
   ]
  },
  {
   "cell_type": "code",
   "execution_count": null,
   "metadata": {},
   "outputs": [],
   "source": []
  }
 ],
 "metadata": {
  "kernelspec": {
   "display_name": "base",
   "language": "python",
   "name": "python3"
  },
  "language_info": {
   "codemirror_mode": {
    "name": "ipython",
    "version": 3
   },
   "file_extension": ".py",
   "mimetype": "text/x-python",
   "name": "python",
   "nbconvert_exporter": "python",
   "pygments_lexer": "ipython3",
   "version": "3.10.6"
  },
  "orig_nbformat": 4
 },
 "nbformat": 4,
 "nbformat_minor": 2
}
